{
 "cells": [
  {
   "cell_type": "code",
   "execution_count": 7,
   "metadata": {
    "ExecuteTime": {
     "end_time": "2020-06-19T20:16:58.443301Z",
     "start_time": "2020-06-19T20:16:58.436454Z"
    }
   },
   "outputs": [],
   "source": [
    "import json\n",
    "import numpy as np\n",
    "import matplotlib.pyplot as plt\n",
    "\n",
    "import torch\n",
    "import torch.nn as nn\n",
    "import torch.optim as optim\n",
    "from torch.utils.data import TensorDataset, DataLoader"
   ]
  },
  {
   "cell_type": "code",
   "execution_count": 8,
   "metadata": {
    "ExecuteTime": {
     "end_time": "2020-06-19T20:16:58.659589Z",
     "start_time": "2020-06-19T20:16:58.651509Z"
    }
   },
   "outputs": [],
   "source": [
    "import sys\n",
    "sys.path.append('../bishop1995_notes/modules_for_nn_training')\n",
    "from learner import Learner\n",
    "from callbacks import CallbackHandler\n",
    "from utility_callbacks import LossCallback, AccuracyCallback\n",
    "from trainer import Trainer"
   ]
  },
  {
   "cell_type": "code",
   "execution_count": 17,
   "metadata": {
    "ExecuteTime": {
     "end_time": "2020-06-19T20:19:07.132137Z",
     "start_time": "2020-06-19T20:19:07.120567Z"
    }
   },
   "outputs": [],
   "source": [
    "with open('pseudo_driving_dataset.json', 'r') as json_f:\n",
    "    states, actions = map(np.array, json.load(json_f))"
   ]
  },
  {
   "cell_type": "code",
   "execution_count": 18,
   "metadata": {
    "ExecuteTime": {
     "end_time": "2020-06-19T20:19:07.316730Z",
     "start_time": "2020-06-19T20:19:07.309207Z"
    }
   },
   "outputs": [
    {
     "name": "stdout",
     "output_type": "stream",
     "text": [
      "(113, 200) (113, 1)\n"
     ]
    }
   ],
   "source": [
    "states = states.reshape(-1, 5 * 40)\n",
    "actions = actions[:,1].reshape(-1, 1)\n",
    "print(states.shape, actions.shape)"
   ]
  },
  {
   "cell_type": "code",
   "execution_count": 19,
   "metadata": {
    "ExecuteTime": {
     "end_time": "2020-06-19T20:19:14.269912Z",
     "start_time": "2020-06-19T20:19:14.258038Z"
    }
   },
   "outputs": [],
   "source": [
    "train_ds = TensorDataset(torch.from_numpy(states), torch.from_numpy(actions))\n",
    "train_dl = DataLoader(train_ds, batch_size=10, shuffle=True)"
   ]
  },
  {
   "cell_type": "code",
   "execution_count": 23,
   "metadata": {
    "ExecuteTime": {
     "end_time": "2020-06-19T20:21:44.909913Z",
     "start_time": "2020-06-19T20:21:44.904095Z"
    }
   },
   "outputs": [],
   "source": [
    "class NN(nn.Module):\n",
    "    \n",
    "    def __init__(self, input_len, output_len, num_neurons):\n",
    "        super().__init__()\n",
    "        \n",
    "        self.main = nn.Sequential(\n",
    "            \n",
    "            nn.Linear(input_len, num_neurons),\n",
    "            nn.LeakyReLU(),\n",
    "            \n",
    "            nn.Linear(num_neurons, num_neurons),\n",
    "            nn.LeakyReLU(),\n",
    "            \n",
    "            nn.Linear(num_neurons, num_neurons),\n",
    "            nn.LeakyReLU(),\n",
    "            \n",
    "            nn.Linear(num_neurons, output_len),\n",
    "        \n",
    "        )\n",
    "    \n",
    "    def forward(self, xb):\n",
    "        xb = self.main(xb)\n",
    "        return xb"
   ]
  },
  {
   "cell_type": "code",
   "execution_count": 24,
   "metadata": {
    "ExecuteTime": {
     "end_time": "2020-06-19T20:21:53.059925Z",
     "start_time": "2020-06-19T20:21:53.055805Z"
    }
   },
   "outputs": [],
   "source": [
    "def get_model(**kwargs):\n",
    "    nn = NN(**kwargs)\n",
    "    return nn, optim.Adam(nn.parameters(), lr=10)"
   ]
  },
  {
   "cell_type": "code",
   "execution_count": 20,
   "metadata": {
    "ExecuteTime": {
     "end_time": "2020-06-19T20:19:27.588285Z",
     "start_time": "2020-06-19T20:19:27.571593Z"
    }
   },
   "outputs": [
    {
     "ename": "NameError",
     "evalue": "name 'valid_dl' is not defined",
     "output_type": "error",
     "traceback": [
      "\u001b[0;31m---------------------------------------------------------------------------\u001b[0m",
      "\u001b[0;31mNameError\u001b[0m                                 Traceback (most recent call last)",
      "\u001b[0;32m<ipython-input-20-10975988c0cd>\u001b[0m in \u001b[0;36m<module>\u001b[0;34m\u001b[0m\n\u001b[1;32m      1\u001b[0m \u001b[0mloss\u001b[0m \u001b[0;34m=\u001b[0m \u001b[0mnn\u001b[0m\u001b[0;34m.\u001b[0m\u001b[0mMSELoss\u001b[0m\u001b[0;34m(\u001b[0m\u001b[0;34m)\u001b[0m\u001b[0;34m\u001b[0m\u001b[0;34m\u001b[0m\u001b[0m\n\u001b[0;32m----> 2\u001b[0;31m \u001b[0mlearn\u001b[0m \u001b[0;34m=\u001b[0m \u001b[0mLearner\u001b[0m\u001b[0;34m(\u001b[0m\u001b[0mtrain_dl\u001b[0m\u001b[0;34m,\u001b[0m \u001b[0mvalid_dl\u001b[0m\u001b[0;34m,\u001b[0m \u001b[0mmodel\u001b[0m\u001b[0;34m,\u001b[0m \u001b[0mloss\u001b[0m\u001b[0;34m,\u001b[0m \u001b[0mopt\u001b[0m\u001b[0;34m)\u001b[0m\u001b[0;34m\u001b[0m\u001b[0;34m\u001b[0m\u001b[0m\n\u001b[0m\u001b[1;32m      3\u001b[0m \u001b[0;34m\u001b[0m\u001b[0m\n\u001b[1;32m      4\u001b[0m \u001b[0mloss_cb\u001b[0m \u001b[0;34m=\u001b[0m \u001b[0mLossCallback\u001b[0m\u001b[0;34m(\u001b[0m\u001b[0;34m)\u001b[0m\u001b[0;34m\u001b[0m\u001b[0;34m\u001b[0m\u001b[0m\n\u001b[1;32m      5\u001b[0m \u001b[0macc_cb\u001b[0m \u001b[0;34m=\u001b[0m \u001b[0mAccuracyCallback\u001b[0m\u001b[0;34m(\u001b[0m\u001b[0;34m)\u001b[0m\u001b[0;34m\u001b[0m\u001b[0;34m\u001b[0m\u001b[0m\n",
      "\u001b[0;31mNameError\u001b[0m: name 'valid_dl' is not defined"
     ]
    }
   ],
   "source": [
    "model, opt = get_model(input_len, output_len, num_neurons)\n",
    "loss = nn.MSELoss()\n",
    "learn = Learner(train_dl, train_dl, model, loss, opt)\n",
    "\n",
    "loss_cb = LossCallback()\n",
    "acc_cb = AccuracyCallback()\n",
    "cb_handler = CallbackHandler(cbs=[loss_cb, acc_cb])\n",
    "\n",
    "trainer = Trainer(learn=learn, cb_handler=cb_handler)\n",
    "\n",
    "trainer.find_lr(beta=0.98, final_value=10, num_itr=300)"
   ]
  },
  {
   "cell_type": "code",
   "execution_count": null,
   "metadata": {},
   "outputs": [],
   "source": []
  }
 ],
 "metadata": {
  "kernelspec": {
   "display_name": "Python 3",
   "language": "python",
   "name": "python3"
  },
  "language_info": {
   "codemirror_mode": {
    "name": "ipython",
    "version": 3
   },
   "file_extension": ".py",
   "mimetype": "text/x-python",
   "name": "python",
   "nbconvert_exporter": "python",
   "pygments_lexer": "ipython3",
   "version": "3.6.9"
  },
  "toc": {
   "base_numbering": 1,
   "nav_menu": {},
   "number_sections": true,
   "sideBar": true,
   "skip_h1_title": false,
   "title_cell": "Table of Contents",
   "title_sidebar": "Contents",
   "toc_cell": false,
   "toc_position": {},
   "toc_section_display": true,
   "toc_window_display": false
  }
 },
 "nbformat": 4,
 "nbformat_minor": 2
}
