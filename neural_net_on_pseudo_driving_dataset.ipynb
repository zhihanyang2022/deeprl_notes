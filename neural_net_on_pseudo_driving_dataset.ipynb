{
 "cells": [
  {
   "cell_type": "markdown",
   "metadata": {},
   "source": [
    "# Behavior cloning on pseudo-driving data-set"
   ]
  },
  {
   "cell_type": "markdown",
   "metadata": {},
   "source": [
    "## Imports"
   ]
  },
  {
   "cell_type": "code",
   "execution_count": 1,
   "metadata": {
    "ExecuteTime": {
     "end_time": "2020-06-19T20:22:44.992932Z",
     "start_time": "2020-06-19T20:22:43.291237Z"
    }
   },
   "outputs": [],
   "source": [
    "import json\n",
    "import numpy as np\n",
    "import matplotlib.pyplot as plt\n",
    "\n",
    "import torch\n",
    "import torch.nn as nn\n",
    "import torch.optim as optim\n",
    "from torch.utils.data import TensorDataset, DataLoader"
   ]
  },
  {
   "cell_type": "code",
   "execution_count": 2,
   "metadata": {
    "ExecuteTime": {
     "end_time": "2020-06-19T20:22:45.022870Z",
     "start_time": "2020-06-19T20:22:45.006597Z"
    }
   },
   "outputs": [],
   "source": [
    "import sys\n",
    "sys.path.append('../bishop1995_notes/modules_for_nn_training')\n",
    "from learner import Learner\n",
    "from callbacks import CallbackHandler\n",
    "from utility_callbacks import LossCallback, AccuracyCallback\n",
    "from trainer import Trainer"
   ]
  },
  {
   "cell_type": "markdown",
   "metadata": {},
   "source": [
    "## Load data"
   ]
  },
  {
   "cell_type": "code",
   "execution_count": 3,
   "metadata": {
    "ExecuteTime": {
     "end_time": "2020-06-19T20:22:45.050275Z",
     "start_time": "2020-06-19T20:22:45.027725Z"
    }
   },
   "outputs": [],
   "source": [
    "with open('pseudo_driving_dataset.json', 'r') as json_f:\n",
    "    states, actions = map(np.array, json.load(json_f))"
   ]
  },
  {
   "cell_type": "code",
   "execution_count": 4,
   "metadata": {
    "ExecuteTime": {
     "end_time": "2020-06-19T20:22:45.064142Z",
     "start_time": "2020-06-19T20:22:45.056168Z"
    }
   },
   "outputs": [
    {
     "name": "stdout",
     "output_type": "stream",
     "text": [
      "(113, 200) (113, 1)\n"
     ]
    }
   ],
   "source": [
    "states = states.reshape(-1, 5 * 40)\n",
    "actions = actions[:,1].reshape(-1, 1)\n",
    "print(states.shape, actions.shape)"
   ]
  },
  {
   "cell_type": "code",
   "execution_count": 5,
   "metadata": {
    "ExecuteTime": {
     "end_time": "2020-06-19T20:22:45.075465Z",
     "start_time": "2020-06-19T20:22:45.066835Z"
    }
   },
   "outputs": [],
   "source": [
    "train_ds = TensorDataset(torch.from_numpy(states), torch.from_numpy(actions))\n",
    "train_dl = DataLoader(train_ds, batch_size=10, shuffle=True)"
   ]
  },
  {
   "cell_type": "markdown",
   "metadata": {},
   "source": [
    "## Define neural net"
   ]
  },
  {
   "cell_type": "code",
   "execution_count": 6,
   "metadata": {
    "ExecuteTime": {
     "end_time": "2020-06-19T20:22:45.351206Z",
     "start_time": "2020-06-19T20:22:45.343468Z"
    }
   },
   "outputs": [],
   "source": [
    "class NN(nn.Module):\n",
    "    \n",
    "    def __init__(self, input_len, output_len, num_neurons):\n",
    "        super().__init__()\n",
    "        \n",
    "        self.main = nn.Sequential(\n",
    "            \n",
    "            nn.Linear(input_len, num_neurons),\n",
    "            nn.LeakyReLU(),\n",
    "            \n",
    "            nn.Linear(num_neurons, num_neurons),\n",
    "            nn.LeakyReLU(),\n",
    "            \n",
    "            nn.Linear(num_neurons, num_neurons),\n",
    "            nn.LeakyReLU(),\n",
    "            \n",
    "            nn.Linear(num_neurons, output_len),\n",
    "        \n",
    "        )\n",
    "    \n",
    "    def forward(self, xb):\n",
    "        xb = self.main(xb)\n",
    "        return xb"
   ]
  },
  {
   "cell_type": "code",
   "execution_count": 7,
   "metadata": {
    "ExecuteTime": {
     "end_time": "2020-06-19T20:22:46.397382Z",
     "start_time": "2020-06-19T20:22:46.392016Z"
    }
   },
   "outputs": [],
   "source": [
    "def get_model(**kwargs):\n",
    "    nn = NN(**kwargs)\n",
    "    return nn, optim.Adam(nn.parameters(), lr=10)"
   ]
  },
  {
   "cell_type": "markdown",
   "metadata": {},
   "source": [
    "## Fine-tune learning rate"
   ]
  },
  {
   "cell_type": "code",
   "execution_count": null,
   "metadata": {
    "ExecuteTime": {
     "start_time": "2020-06-19T20:22:50.978Z"
    }
   },
   "outputs": [],
   "source": [
    "model, opt = get_model(input_len=200, output_len=1, num_neurons=10)\n",
    "loss = nn.MSELoss()\n",
    "learn = Learner(train_dl, train_dl, model, loss, opt)\n",
    "\n",
    "loss_cb = LossCallback()\n",
    "acc_cb = AccuracyCallback()\n",
    "cb_handler = CallbackHandler(cbs=[loss_cb, acc_cb])\n",
    "\n",
    "trainer = Trainer(learn=learn, cb_handler=cb_handler)\n",
    "\n",
    "trainer.find_lr(beta=0.98, final_value=10, num_itr=300)"
   ]
  },
  {
   "cell_type": "markdown",
   "metadata": {},
   "source": [
    "## Train neural net"
   ]
  },
  {
   "cell_type": "code",
   "execution_count": null,
   "metadata": {},
   "outputs": [],
   "source": []
  },
  {
   "cell_type": "markdown",
   "metadata": {},
   "source": [
    "## Analyze results"
   ]
  },
  {
   "cell_type": "code",
   "execution_count": null,
   "metadata": {},
   "outputs": [],
   "source": []
  }
 ],
 "metadata": {
  "kernelspec": {
   "display_name": "Python 3",
   "language": "python",
   "name": "python3"
  },
  "language_info": {
   "codemirror_mode": {
    "name": "ipython",
    "version": 3
   },
   "file_extension": ".py",
   "mimetype": "text/x-python",
   "name": "python",
   "nbconvert_exporter": "python",
   "pygments_lexer": "ipython3",
   "version": "3.6.9"
  },
  "toc": {
   "base_numbering": 1,
   "nav_menu": {},
   "number_sections": false,
   "sideBar": true,
   "skip_h1_title": false,
   "title_cell": "Table of Contents",
   "title_sidebar": "Contents",
   "toc_cell": false,
   "toc_position": {},
   "toc_section_display": true,
   "toc_window_display": true
  }
 },
 "nbformat": 4,
 "nbformat_minor": 2
}
