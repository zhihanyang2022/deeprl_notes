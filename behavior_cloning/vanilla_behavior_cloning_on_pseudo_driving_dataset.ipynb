{
 "cells": [
  {
   "cell_type": "markdown",
   "metadata": {},
   "source": [
    "# Vanilla behavior cloning on pseudo-driving data-set"
   ]
  },
  {
   "cell_type": "markdown",
   "metadata": {},
   "source": [
    "Zhihan Yang @ June 19, 2020"
   ]
  },
  {
   "cell_type": "markdown",
   "metadata": {},
   "source": [
    "## Imports"
   ]
  },
  {
   "cell_type": "code",
   "execution_count": 1,
   "metadata": {
    "ExecuteTime": {
     "end_time": "2020-06-19T20:22:44.992932Z",
     "start_time": "2020-06-19T20:22:43.291237Z"
    }
   },
   "outputs": [],
   "source": [
    "import json\n",
    "import numpy as np\n",
    "import matplotlib.pyplot as plt\n",
    "\n",
    "import torch\n",
    "import torch.nn as nn\n",
    "import torch.optim as optim\n",
    "from torch.utils.data import TensorDataset, DataLoader"
   ]
  },
  {
   "cell_type": "code",
   "execution_count": 4,
   "metadata": {
    "ExecuteTime": {
     "end_time": "2020-06-19T20:22:45.022870Z",
     "start_time": "2020-06-19T20:22:45.006597Z"
    }
   },
   "outputs": [],
   "source": [
    "import sys\n",
    "sys.path.append('../bishop1995_notes/modules_for_nn_training')\n",
    "from learner import Learner\n",
    "from callbacks import CallbackHandler\n",
    "from utility_callbacks import LossCallback\n",
    "from trainer import Trainer"
   ]
  },
  {
   "cell_type": "markdown",
   "metadata": {},
   "source": [
    "## Load data"
   ]
  },
  {
   "cell_type": "code",
   "execution_count": 133,
   "metadata": {
    "ExecuteTime": {
     "end_time": "2020-06-19T20:22:45.050275Z",
     "start_time": "2020-06-19T20:22:45.027725Z"
    }
   },
   "outputs": [
    {
     "name": "stdout",
     "output_type": "stream",
     "text": [
      "(113, 200) (113, 1)\n",
      "0.0 1.0 -10 10\n"
     ]
    }
   ],
   "source": [
    "with open('pseudo_driving_dataset.json', 'r') as json_f:\n",
    "    states, actions = map(np.array, json.load(json_f))\n",
    "    \n",
    "states = states.reshape(-1, 5 * 40)  # flatten, to be fed into a fully-connected network as 1-d vectors\n",
    "states /= states.max()  # normalize, since car location is marked with pixel values of 10\n",
    "actions = actions[:,1].reshape(-1, 1)  # only take the delta_y's, since delta_x's are fixed \n",
    "# actions need no normalization\n",
    "\n",
    "print(states.shape, actions.shape)\n",
    "print(states.min(), states.max(), actions.min(), actions.max())"
   ]
  },
  {
   "cell_type": "code",
   "execution_count": 136,
   "metadata": {
    "ExecuteTime": {
     "end_time": "2020-06-19T20:22:45.075465Z",
     "start_time": "2020-06-19T20:22:45.066835Z"
    }
   },
   "outputs": [],
   "source": [
    "train_ds = TensorDataset(\n",
    "    torch.from_numpy(states).float(), \n",
    "    torch.from_numpy(actions).float()\n",
    ")\n",
    "train_dl = DataLoader(train_ds, batch_size=10, shuffle=True)  # use a small batch size since our training set is small"
   ]
  },
  {
   "cell_type": "markdown",
   "metadata": {},
   "source": [
    "## Define neural net"
   ]
  },
  {
   "cell_type": "code",
   "execution_count": 138,
   "metadata": {
    "ExecuteTime": {
     "end_time": "2020-06-19T20:22:45.351206Z",
     "start_time": "2020-06-19T20:22:45.343468Z"
    }
   },
   "outputs": [],
   "source": [
    "class NN(nn.Module):\n",
    "    \n",
    "    def __init__(self, input_len, output_len, num_neurons):\n",
    "        super().__init__()\n",
    "        \n",
    "        self.main = nn.Sequential(\n",
    "            \n",
    "            # layer 1\n",
    "            nn.Linear(input_len, num_neurons),\n",
    "            nn.LeakyReLU(),\n",
    "            \n",
    "            # layer 2\n",
    "            nn.Linear(num_neurons, num_neurons),\n",
    "            nn.LeakyReLU(),\n",
    "            \n",
    "            # layer 3\n",
    "            nn.Linear(num_neurons, num_neurons),\n",
    "            nn.LeakyReLU(),\n",
    "            \n",
    "            # output layer\n",
    "            nn.Linear(num_neurons, output_len),\n",
    "        \n",
    "        )\n",
    "    \n",
    "    def forward(self, xb):\n",
    "        xb = self.main(xb)\n",
    "        return xb"
   ]
  },
  {
   "cell_type": "code",
   "execution_count": 139,
   "metadata": {
    "ExecuteTime": {
     "end_time": "2020-06-19T20:22:46.397382Z",
     "start_time": "2020-06-19T20:22:46.392016Z"
    }
   },
   "outputs": [],
   "source": [
    "def get_model(**kwargs):\n",
    "    nn = NN(**kwargs)\n",
    "    return nn, optim.Adam(nn.parameters(), lr=10)"
   ]
  },
  {
   "cell_type": "markdown",
   "metadata": {},
   "source": [
    "## Fine-tune learning rate"
   ]
  },
  {
   "cell_type": "markdown",
   "metadata": {},
   "source": [
    "Simply pick the learning rate that corresponds to the steepest slope on the plot. No need to be super accurate."
   ]
  },
  {
   "cell_type": "code",
   "execution_count": 142,
   "metadata": {},
   "outputs": [],
   "source": [
    "train_again = False  # no need to train again since the model is saved can be loaded below"
   ]
  },
  {
   "cell_type": "code",
   "execution_count": 155,
   "metadata": {
    "ExecuteTime": {
     "start_time": "2020-06-19T20:22:50.978Z"
    }
   },
   "outputs": [],
   "source": [
    "if train_again:\n",
    "    model, opt = get_model(input_len=200, output_len=1, num_neurons=100)\n",
    "    loss = nn.MSELoss()\n",
    "    learn = Learner(train_dl, train_dl, model, loss, opt)\n",
    "\n",
    "    loss_cb = LossCallback()\n",
    "    cb_handler = CallbackHandler(cbs=[loss_cb])\n",
    "\n",
    "    trainer = Trainer(learn=learn, cb_handler=cb_handler)\n",
    "\n",
    "    trainer.find_lr(beta=0.98, final_value=10, num_itr=300)"
   ]
  },
  {
   "cell_type": "code",
   "execution_count": 156,
   "metadata": {},
   "outputs": [],
   "source": [
    "if train_again:\n",
    "    trainer.set_lr(5e-3)"
   ]
  },
  {
   "cell_type": "markdown",
   "metadata": {},
   "source": [
    "## Train neural net"
   ]
  },
  {
   "cell_type": "code",
   "execution_count": 158,
   "metadata": {},
   "outputs": [],
   "source": [
    "if train_again:\n",
    "    trainer.train(500)  # take less than 2 minutes since we are using a small dataset and a small network"
   ]
  },
  {
   "cell_type": "code",
   "execution_count": 159,
   "metadata": {},
   "outputs": [],
   "source": [
    "if train_again:\n",
    "    loss_cb.plot()\n",
    "    plt.ylabel('Train loss')\n",
    "    plt.savefig('pseudo_driving_dataset.png')"
   ]
  },
  {
   "cell_type": "code",
   "execution_count": 160,
   "metadata": {},
   "outputs": [],
   "source": [
    "# trainer.save_as_pth('pseudo_driving_dataset.pth')"
   ]
  },
  {
   "cell_type": "markdown",
   "metadata": {},
   "source": [
    "Last learning curve actually looks pretty good!"
   ]
  },
  {
   "cell_type": "markdown",
   "metadata": {},
   "source": [
    "<img src='pseudo_driving_dataset.png'>"
   ]
  },
  {
   "cell_type": "code",
   "execution_count": 161,
   "metadata": {},
   "outputs": [],
   "source": [
    "trainer.load_from_pth('pseudo_driving_dataset.pth')"
   ]
  },
  {
   "cell_type": "markdown",
   "metadata": {},
   "source": [
    "## Analyze results"
   ]
  },
  {
   "cell_type": "code",
   "execution_count": 162,
   "metadata": {},
   "outputs": [],
   "source": [
    "with open('pseudo_driving_track.json', 'r') as json_f:\n",
    "    track = np.array(json.load(json_f))\n",
    "    track_vis = track.copy()  # for visualization later, no need to normalize\n",
    "    track /= 10"
   ]
  },
  {
   "cell_type": "code",
   "execution_count": 163,
   "metadata": {},
   "outputs": [],
   "source": [
    "def get_state_from_coord(x, y):\n",
    "    return track[x:x+5,y-20:y+20]"
   ]
  },
  {
   "cell_type": "markdown",
   "metadata": {},
   "source": [
    "Rollout a trajectory in the state space using the policy learned."
   ]
  },
  {
   "cell_type": "code",
   "execution_count": 167,
   "metadata": {},
   "outputs": [],
   "source": [
    "x, y = 0, 60\n",
    "state = get_state_from_coord(x, y)\n",
    "\n",
    "xs_gen, ys_gen = [x], [y]\n",
    "\n",
    "for i in range(len(states)):\n",
    "    \n",
    "    state_preprocess = torch.from_numpy(state.reshape(1, 200)).float()\n",
    "    delta_y = model(state_preprocess).detach().numpy()  # delta_y is the action to take in state_preprocess\n",
    "    \n",
    "    x, y = int(x + 5), int(y + delta_y)  # take action\n",
    "    state = get_state_from_coord(x, y)  # observe the new state as a result of taking action\n",
    "    \n",
    "    xs_gen.append(x); ys_gen.append(y)"
   ]
  },
  {
   "cell_type": "markdown",
   "metadata": {},
   "source": [
    "Visualize the trajectory in the state space by highlighting the states visited by the agent."
   ]
  },
  {
   "cell_type": "code",
   "execution_count": 153,
   "metadata": {},
   "outputs": [],
   "source": [
    "for x, y in zip(x_gen, y_gen):\n",
    "    track_vis[x, y] = 2"
   ]
  },
  {
   "cell_type": "code",
   "execution_count": 154,
   "metadata": {},
   "outputs": [
    {
     "data": {
      "image/png": "[encoded data removed]",
      "text/plain": [
       "<Figure size 864x864 with 1 Axes>"
      ]
     },
     "metadata": {
      "needs_background": "light"
     },
     "output_type": "display_data"
    }
   ],
   "source": [
    "plt.figure(figsize=(12, 12))\n",
    "plt.matshow(track_vis[:120], fignum=1, aspect='auto', cmap='tab10')\n",
    "plt.show()"
   ]
  },
  {
   "cell_type": "code",
   "execution_count": null,
   "metadata": {},
   "outputs": [],
   "source": []
  }
 ],
 "metadata": {
  "kernelspec": {
   "display_name": "Python 3",
   "language": "python",
   "name": "python3"
  },
  "language_info": {
   "codemirror_mode": {
    "name": "ipython",
    "version": 3
   },
   "file_extension": ".py",
   "mimetype": "text/x-python",
   "name": "python",
   "nbconvert_exporter": "python",
   "pygments_lexer": "ipython3",
   "version": "3.7.6"
  },
  "toc": {
   "base_numbering": 1,
   "nav_menu": {},
   "number_sections": false,
   "sideBar": true,
   "skip_h1_title": false,
   "title_cell": "Table of Contents",
   "title_sidebar": "Contents",
   "toc_cell": false,
   "toc_position": {},
   "toc_section_display": true,
   "toc_window_display": true
  },
  "varInspector": {
   "cols": {
    "lenName": 16,
    "lenType": 16,
    "lenVar": 40
   },
   "kernels_config": {
    "python": {
     "delete_cmd_postfix": "",
     "delete_cmd_prefix": "del ",
     "library": "var_list.py",
     "varRefreshCmd": "print(var_dic_list())"
    },
    "r": {
     "delete_cmd_postfix": ") ",
     "delete_cmd_prefix": "rm(",
     "library": "var_list.r",
     "varRefreshCmd": "cat(var_dic_list()) "
    }
   },
   "types_to_exclude": [
    "module",
    "function",
    "builtin_function_or_method",
    "instance",
    "_Feature"
   ],
   "window_display": false
  }
 },
 "nbformat": 4,
 "nbformat_minor": 2
}
